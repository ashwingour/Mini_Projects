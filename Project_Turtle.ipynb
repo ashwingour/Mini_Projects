{
 "cells": [
  {
   "cell_type": "code",
   "execution_count": null,
   "metadata": {},
   "outputs": [],
   "source": [
    "import turtle\n",
    "from turtle import Turtle\n",
    "\n",
    "\n",
    "def draw_square():\n",
    "    turtle.fillcolor(\"White\")\n",
    "    turtle.bgcolor(\"green\")\n",
    "    turtle.getscreen()\n",
    "    #turtle.showturtle\n",
    "    \n",
    "    brad = turtle.Turtle()\n",
    "    brad.shape(\"turtle\")\n",
    "    brad.speed(1)\n",
    "    brad.color(\"yellow\")\n",
    "    for i in range(0,4):\n",
    "        brad.forward(100)\n",
    "        brad.right(90)\n",
    "        i+=1\n",
    "\n",
    "def draw_art(some_turtle):\n",
    "    #turtle.getscreen()\n",
    "    some_turtle= turtle.Turtle()\n",
    "    for i in range(0,4):\n",
    "        draw_square(brad)\n",
    "        some_turtle.left(10)\n",
    "draw_art()\n",
    "\n"
   ]
  },
  {
   "cell_type": "code",
   "execution_count": null,
   "metadata": {},
   "outputs": [],
   "source": [
    "def draw_circle():\n",
    "    circ = turtle.Turtle()\n",
    "    circ.circle(100)\n",
    "    circ.shape(\"arrow\")\n",
    "    circ.color(\"Black\")\n",
    "draw_circle()\n"
   ]
  },
  {
   "cell_type": "code",
   "execution_count": null,
   "metadata": {},
   "outputs": [],
   "source": [
    "import turtle\n",
    "from turtle import Turtle\n",
    "turtle.heading()"
   ]
  },
  {
   "cell_type": "markdown",
   "metadata": {},
   "source": [
    "from turtle import *\n",
    "fillcolor(\"blue\")\n",
    "color('red', 'yellow')\n",
    "begin_fill()\n",
    "while True:\n",
    "    forward(200)\n",
    "    left(170)\n",
    "    if abs(pos()) < 1:\n",
    "        break\n",
    "end_fill()\n",
    "done()"
   ]
  },
  {
   "cell_type": "code",
   "execution_count": null,
   "metadata": {},
   "outputs": [],
   "source": []
  }
 ],
 "metadata": {
  "kernelspec": {
   "display_name": "Python 3",
   "language": "python",
   "name": "python3"
  },
  "language_info": {
   "codemirror_mode": {
    "name": "ipython",
    "version": 3
   },
   "file_extension": ".py",
   "mimetype": "text/x-python",
   "name": "python",
   "nbconvert_exporter": "python",
   "pygments_lexer": "ipython3",
   "version": "3.6.4"
  }
 },
 "nbformat": 4,
 "nbformat_minor": 2
}
